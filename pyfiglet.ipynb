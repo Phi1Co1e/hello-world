{
 "cells": [
  {
   "cell_type": "code",
   "execution_count": 1,
   "id": "c841c4eb",
   "metadata": {},
   "outputs": [
    {
     "name": "stdout",
     "output_type": "stream",
     "text": [
      " _____         _   _                            __ _       _      _   \n",
      "|_   _|__  ___| |_(_)_ __   __ _   _ __  _   _ / _(_) __ _| | ___| |_ \n",
      "  | |/ _ \\/ __| __| | '_ \\ / _` | | '_ \\| | | | |_| |/ _` | |/ _ \\ __|\n",
      "  | |  __/\\__ \\ |_| | | | | (_| | | |_) | |_| |  _| | (_| | |  __/ |_ \n",
      "  |_|\\___||___/\\__|_|_| |_|\\__, | | .__/ \\__, |_| |_|\\__, |_|\\___|\\__|\n",
      "                           |___/  |_|    |___/       |___/            \n",
      "\n"
     ]
    }
   ],
   "source": [
    "import pyfiglet\n",
    "\n",
    "result = pyfiglet.figlet_format(\"Testing pyfiglet\")\n",
    "print(result)"
   ]
  },
  {
   "cell_type": "code",
   "execution_count": 2,
   "id": "b355daf1",
   "metadata": {},
   "outputs": [
    {
     "name": "stdout",
     "output_type": "stream",
     "text": [
      "  ______          __  _                            _____       __     __ \n",
      " /_  __/__  _____/ /_(_)___  ____ _   ____  __  __/ __(_)___ _/ /__  / /_\n",
      "  / / / _ \\/ ___/ __/ / __ \\/ __ `/  / __ \\/ / / / /_/ / __ `/ / _ \\/ __/\n",
      " / / /  __(__  ) /_/ / / / / /_/ /  / /_/ / /_/ / __/ / /_/ / /  __/ /_  \n",
      "/_/  \\___/____/\\__/_/_/ /_/\\__, /  / .___/\\__, /_/ /_/\\__, /_/\\___/\\__/  \n",
      "                          /____/  /_/    /____/      /____/              \n",
      "\n"
     ]
    }
   ],
   "source": [
    "result_slant = pyfiglet.figlet_format(\"Testing pyfiglet\", font = \"slant\")\n",
    "print(result_slant)"
   ]
  },
  {
   "cell_type": "code",
   "execution_count": 4,
   "id": "5c1e070f",
   "metadata": {
    "scrolled": true
   },
   "outputs": [
    {
     "name": "stdout",
     "output_type": "stream",
     "text": [
      " ____  ____  ___  ____  ____  _  _  ___ \n",
      "(_  _)( ___)/ __)(_  _)(_  _)( \\( )/ __)\n",
      "  )(   )__) \\__ \\  )(   _)(_  )  (( (_-.\n",
      " (__) (____)(___/ (__) (____)(_)\\_)\\___/\n",
      " ____  _  _  ____  ____  ___  __    ____  ____ \n",
      "(  _ \\( \\/ )( ___)(_  _)/ __)(  )  ( ___)(_  _)\n",
      " )___/ \\  /  )__)  _)(_( (_-. )(__  )__)   )(  \n",
      "(__)   (__) (__)  (____)\\___/(____)(____) (__) \n",
      "\n"
     ]
    }
   ],
   "source": [
    "result_bulbhead = pyfiglet.figlet_format(\"Testing pyfiglet\", font = \"bulbhead\")\n",
    "print(result_bulbhead)"
   ]
  },
  {
   "cell_type": "code",
   "execution_count": null,
   "id": "2414e7f3",
   "metadata": {},
   "outputs": [],
   "source": []
  },
  {
   "cell_type": "markdown",
   "id": "3350877d",
   "metadata": {},
   "source": [
    "# Now to add Colour"
   ]
  },
  {
   "cell_type": "code",
   "execution_count": 5,
   "id": "bac4b385",
   "metadata": {},
   "outputs": [
    {
     "name": "stdout",
     "output_type": "stream",
     "text": [
      "\u001b[33m _   _  ____  __    __    _____ \n",
      "( )_( )( ___)(  )  (  )  (  _  )\n",
      " ) _ (  )__)  )(__  )(__  )(_)( \n",
      "(_) (_)(____)(____)(____)(_____)\n",
      "\u001b[0m\n"
     ]
    }
   ],
   "source": [
    "from termcolor import colored\n",
    "from pyfiglet import figlet_format\n",
    "\n",
    "print((colored(figlet_format(\"Hello\", font = \"bulbhead\"), color=\"yellow\")))"
   ]
  },
  {
   "cell_type": "code",
   "execution_count": null,
   "id": "acb02b90",
   "metadata": {},
   "outputs": [],
   "source": []
  },
  {
   "cell_type": "code",
   "execution_count": null,
   "id": "f89305e0",
   "metadata": {},
   "outputs": [],
   "source": []
  }
 ],
 "metadata": {
  "kernelspec": {
   "display_name": "Python 3 (ipykernel)",
   "language": "python",
   "name": "python3"
  },
  "language_info": {
   "codemirror_mode": {
    "name": "ipython",
    "version": 3
   },
   "file_extension": ".py",
   "mimetype": "text/x-python",
   "name": "python",
   "nbconvert_exporter": "python",
   "pygments_lexer": "ipython3",
   "version": "3.9.2"
  }
 },
 "nbformat": 4,
 "nbformat_minor": 5
}
